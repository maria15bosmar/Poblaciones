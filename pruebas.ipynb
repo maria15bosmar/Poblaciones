{
 "cells": [
  {
   "cell_type": "code",
   "execution_count": 1,
   "metadata": {},
   "outputs": [],
   "source": [
    "import numpy as np"
   ]
  },
  {
   "cell_type": "code",
   "execution_count": 15,
   "metadata": {},
   "outputs": [
    {
     "data": {
      "text/plain": [
       "[0,\n",
       " 0.1,\n",
       " 0.2,\n",
       " 0.30000000000000004,\n",
       " 0.4,\n",
       " 0.5,\n",
       " 0.6,\n",
       " 0.7,\n",
       " 0.7999999999999999,\n",
       " 0.8999999999999999]"
      ]
     },
     "execution_count": 15,
     "metadata": {},
     "output_type": "execute_result"
    }
   ],
   "source": [
    "size = (10, 20)\n",
    "salto = (size[1]-size[0])/100\n",
    "a = 0\n",
    "l = []\n",
    "for i in range(size[1]-size[0]):\n",
    "    l.append(a)\n",
    "    a+=salto\n",
    "l"
   ]
  },
  {
   "cell_type": "code",
   "execution_count": 1,
   "metadata": {},
   "outputs": [
    {
     "data": {
      "text/plain": [
       "1.0"
      ]
     },
     "execution_count": 1,
     "metadata": {},
     "output_type": "execute_result"
    }
   ],
   "source": [
    "sum([0.032, 0.192, 0.159, 0.322, 0.186, 0.065, 0.044])"
   ]
  },
  {
   "cell_type": "code",
   "execution_count": 4,
   "metadata": {},
   "outputs": [],
   "source": [
    "import json\n",
    "with open(\"resources/input_data/inputs_planeador.json\") as f:\n",
    "    INPUT_DATA = json.load(f)"
   ]
  },
  {
   "cell_type": "code",
   "execution_count": 9,
   "metadata": {},
   "outputs": [
    {
     "ename": "TypeError",
     "evalue": "list indices must be integers or slices, not str",
     "output_type": "error",
     "traceback": [
      "\u001b[1;31m---------------------------------------------------------------------------\u001b[0m",
      "\u001b[1;31mTypeError\u001b[0m                                 Traceback (most recent call last)",
      "Cell \u001b[1;32mIn [9], line 4\u001b[0m\n\u001b[0;32m      2\u001b[0m d \u001b[39m=\u001b[39m \u001b[39mdict\u001b[39m()\n\u001b[0;32m      3\u001b[0m \u001b[39mfor\u001b[39;00m i, cl \u001b[39min\u001b[39;00m \u001b[39menumerate\u001b[39m(cosas[\u001b[39m\"\u001b[39m\u001b[39mclaves\u001b[39m\u001b[39m\"\u001b[39m]):\n\u001b[1;32m----> 4\u001b[0m     d[\u001b[39m\"\u001b[39m\u001b[39mhola\u001b[39m\u001b[39m\"\u001b[39m] \u001b[39m=\u001b[39m INPUT_DATA[\u001b[39m\"\u001b[39;49m\u001b[39mmodo\u001b[39;49m\u001b[39m\"\u001b[39;49m][\u001b[39m\"\u001b[39;49m\u001b[39mvalores\u001b[39;49m\u001b[39m\"\u001b[39;49m][\u001b[39m\"\u001b[39;49m\u001b[39mi\u001b[39;49m\u001b[39m\"\u001b[39;49m]\n\u001b[0;32m      6\u001b[0m \u001b[39mprint\u001b[39m(d)\n",
      "\u001b[1;31mTypeError\u001b[0m: list indices must be integers or slices, not str"
     ]
    }
   ],
   "source": [
    "cosas = INPUT_DATA[\"modo\"]\n",
    "d = dict()\n",
    "for i, cl in enumerate(cosas[\"claves\"]):\n",
    "    d[cl] = INPUT_DATA[\"modo\"][\"valores\"][i]\n",
    "\n",
    "print(d)"
   ]
  },
  {
   "cell_type": "code",
   "execution_count": 10,
   "metadata": {},
   "outputs": [],
   "source": [
    "ds = {}\n",
    "ds[\"a\"]= 1"
   ]
  },
  {
   "cell_type": "code",
   "execution_count": 10,
   "metadata": {},
   "outputs": [],
   "source": [
    "MODO = {\n",
    "    (1,2,3,4,5,6,7,8,9): \"pt\", (10): \"taxi\", \n",
    "    (11, 12, 13 ,14, 15, 16, 17, 18, 19): \"car\",\n",
    "    (20, 21, 22): \"bicicle\", (24): \"consorcio\"\n",
    "}\n",
    "\n",
    "num = 100\n",
    "\n",
    "for i in MODO.keys():\n",
    "    if (type(i) == tuple and num in i) or (type(i) == int and num == i):\n",
    "        print(i)\n",
    "        print(MODO[i])\n",
    "        break\n"
   ]
  }
 ],
 "metadata": {
  "kernelspec": {
   "display_name": "Python 3.10.4 64-bit",
   "language": "python",
   "name": "python3"
  },
  "language_info": {
   "codemirror_mode": {
    "name": "ipython",
    "version": 3
   },
   "file_extension": ".py",
   "mimetype": "text/x-python",
   "name": "python",
   "nbconvert_exporter": "python",
   "pygments_lexer": "ipython3",
   "version": "3.10.4"
  },
  "orig_nbformat": 4,
  "vscode": {
   "interpreter": {
    "hash": "82426e9ecc58341f1ef8e214ae82fe6c690940504c0647c777d68997be611dce"
   }
  }
 },
 "nbformat": 4,
 "nbformat_minor": 2
}
